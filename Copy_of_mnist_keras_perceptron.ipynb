{
  "nbformat": 4,
  "nbformat_minor": 0,
  "metadata": {
    "colab": {
      "name": "Copy of mnist-keras-perceptron.ipynb",
      "provenance": [],
      "collapsed_sections": [],
      "include_colab_link": true
    },
    "kernelspec": {
      "name": "python3",
      "display_name": "Python 3"
    },
    "accelerator": "GPU"
  },
  "cells": [
    {
      "cell_type": "markdown",
      "metadata": {
        "id": "view-in-github",
        "colab_type": "text"
      },
      "source": [
        "<a href=\"https://colab.research.google.com/github/pavanpranav/StartingWithPython-ai1-fall2019/blob/master/Copy_of_mnist_keras_perceptron.ipynb\" target=\"_parent\"><img src=\"https://colab.research.google.com/assets/colab-badge.svg\" alt=\"Open In Colab\"/></a>"
      ]
    },
    {
      "cell_type": "code",
      "metadata": {
        "id": "0rrbVKm5n6E3",
        "colab_type": "code",
        "colab": {
          "base_uri": "https://localhost:8080/",
          "height": 34
        },
        "outputId": "d35b8b87-01ff-4cf0-8824-c42ac48492f1"
      },
      "source": [
        "# taken from lukas/ml-class\n",
        "import numpy as np\n",
        "from keras.datasets import mnist\n",
        "from keras.models import Sequential\n",
        "from keras.layers import Dense, Flatten, Dropout\n",
        "from keras.utils import np_utils\n",
        "from keras.callbacks import Callback\n",
        "import json\n",
        "\n",
        "# from wandb.keras import WandbCallback\n",
        "# import wandb\n",
        "\n",
        "# run = wandb.init()\n",
        "# config = run.config\n",
        "\n",
        "\n",
        "\n",
        "\n"
      ],
      "execution_count": 1,
      "outputs": [
        {
          "output_type": "stream",
          "text": [
            "Using TensorFlow backend.\n"
          ],
          "name": "stderr"
        }
      ]
    },
    {
      "cell_type": "code",
      "metadata": {
        "id": "zu2Oy32RUYhK",
        "colab_type": "code",
        "colab": {
          "base_uri": "https://localhost:8080/",
          "height": 34
        },
        "outputId": "9ca697ee-2ba9-4c4c-b1ac-77f8ac8ed71d"
      },
      "source": [
        "1+1"
      ],
      "execution_count": 2,
      "outputs": [
        {
          "output_type": "execute_result",
          "data": {
            "text/plain": [
              "2"
            ]
          },
          "metadata": {
            "tags": []
          },
          "execution_count": 2
        }
      ]
    },
    {
      "cell_type": "markdown",
      "metadata": {
        "id": "sXFtZTI2Uftx",
        "colab_type": "text"
      },
      "source": [
        "### hello world\n",
        "\n",
        "1.one\n",
        "\n",
        "2.two\n",
        "\n",
        "3.three\n",
        "\n",
        "- hello\n",
        "- world\n",
        "- portland \n",
        "\n",
        "hellor the $\\alpha$ is a a greek letter.\n",
        "\n",
        "$$\\alpha + \\beta + \\gamma = \\delta $$"
      ]
    },
    {
      "cell_type": "code",
      "metadata": {
        "id": "zrfka0nKYXdJ",
        "colab_type": "code",
        "colab": {
          "base_uri": "https://localhost:8080/",
          "height": 34
        },
        "outputId": "75298289-26e3-40ba-ccf2-3bea8abb4731"
      },
      "source": [
        "a=(1,2)\n",
        "type(a)"
      ],
      "execution_count": 3,
      "outputs": [
        {
          "output_type": "execute_result",
          "data": {
            "text/plain": [
              "tuple"
            ]
          },
          "metadata": {
            "tags": []
          },
          "execution_count": 3
        }
      ]
    },
    {
      "cell_type": "code",
      "metadata": {
        "id": "cBGXjNhpYgXj",
        "colab_type": "code",
        "colab": {
          "base_uri": "https://localhost:8080/",
          "height": 34
        },
        "outputId": "68689ba3-eadc-408a-dc5c-5463c18be930"
      },
      "source": [
        "print(a)"
      ],
      "execution_count": 4,
      "outputs": [
        {
          "output_type": "stream",
          "text": [
            "(1, 2)\n"
          ],
          "name": "stdout"
        }
      ]
    },
    {
      "cell_type": "code",
      "metadata": {
        "id": "9Dul5FdnRhiS",
        "colab_type": "code",
        "colab": {
          "base_uri": "https://localhost:8080/",
          "height": 85
        },
        "outputId": "2dedea6d-63c0-45c4-f740-5b99caaf6a5b"
      },
      "source": [
        "class Config:\n",
        "  pass\n",
        "\n",
        "config = Config()\n",
        "config.optimizer = \"adam\"\n",
        "config.epochs = 30\n",
        "config.hidden_nodes = 30\n",
        "\n",
        "# load data\n",
        "(X_train, y_train), (X_test, y_test) = mnist.load_data() #returns two tuples\n",
        "print(X_train.shape,y_train.shape)\n",
        "img_width = X_train.shape[1]\n",
        "img_height = X_train.shape[2]\n",
        "print(X_train.shape, y_train.shape)\n",
        "#X_train = X_train.astype('float32')\n",
        "#X_train /= 255.\n",
        "#X_test = X_test.astype('float32')\n",
        "#X_test /= 255.\n",
        "\n",
        "# Normalize, change learning rate, play with layer size, batchsize\n",
        "\n",
        "# one hot encode outputs\n",
        "y_train = np_utils.to_categorical(y_train)\n",
        "y_test = np_utils.to_categorical(y_test)\n",
        "labels = range(10)\n",
        "\n",
        "num_classes = y_train.shape[1]"
      ],
      "execution_count": 5,
      "outputs": [
        {
          "output_type": "stream",
          "text": [
            "Downloading data from https://s3.amazonaws.com/img-datasets/mnist.npz\n",
            "11493376/11490434 [==============================] - 2s 0us/step\n",
            "(60000, 28, 28) (60000,)\n",
            "(60000, 28, 28) (60000,)\n"
          ],
          "name": "stdout"
        }
      ]
    },
    {
      "cell_type": "code",
      "metadata": {
        "id": "1RkL60lmZXlw",
        "colab_type": "code",
        "colab": {
          "base_uri": "https://localhost:8080/",
          "height": 34
        },
        "outputId": "318dabfa-6cc8-44b5-b85e-fabf2cc128e1"
      },
      "source": [
        "y_train[5]\n"
      ],
      "execution_count": 25,
      "outputs": [
        {
          "output_type": "execute_result",
          "data": {
            "text/plain": [
              "array([0., 0., 1., 0., 0., 0., 0., 0., 0., 0.], dtype=float32)"
            ]
          },
          "metadata": {
            "tags": []
          },
          "execution_count": 25
        }
      ]
    },
    {
      "cell_type": "code",
      "metadata": {
        "id": "Ic0ZIH5nRzOA",
        "colab_type": "code",
        "colab": {
          "base_uri": "https://localhost:8080/",
          "height": 479
        },
        "outputId": "551a10dc-01b6-46e0-9922-2428034e7689"
      },
      "source": [
        "# create model\n",
        "model = Sequential()\n",
        "model.add(Flatten(input_shape=(img_width, img_height)))\n",
        "model.add(Dense(config.hidden_nodes, activation='relu'))\n",
        "model.add(Dense(config.hidden_nodes, activation='relu'))\n",
        "model.add(Dense(num_classes, activation='softmax'))\n",
        "model.compile(loss='categorical_crossentropy', optimizer=config.optimizer,\n",
        "              metrics=['accuracy'])\n",
        "model.summary()"
      ],
      "execution_count": 7,
      "outputs": [
        {
          "output_type": "stream",
          "text": [
            "WARNING:tensorflow:From /usr/local/lib/python3.6/dist-packages/keras/backend/tensorflow_backend.py:66: The name tf.get_default_graph is deprecated. Please use tf.compat.v1.get_default_graph instead.\n",
            "\n",
            "WARNING:tensorflow:From /usr/local/lib/python3.6/dist-packages/keras/backend/tensorflow_backend.py:541: The name tf.placeholder is deprecated. Please use tf.compat.v1.placeholder instead.\n",
            "\n",
            "WARNING:tensorflow:From /usr/local/lib/python3.6/dist-packages/keras/backend/tensorflow_backend.py:4432: The name tf.random_uniform is deprecated. Please use tf.random.uniform instead.\n",
            "\n",
            "WARNING:tensorflow:From /usr/local/lib/python3.6/dist-packages/keras/optimizers.py:793: The name tf.train.Optimizer is deprecated. Please use tf.compat.v1.train.Optimizer instead.\n",
            "\n",
            "WARNING:tensorflow:From /usr/local/lib/python3.6/dist-packages/keras/backend/tensorflow_backend.py:3576: The name tf.log is deprecated. Please use tf.math.log instead.\n",
            "\n",
            "Model: \"sequential_1\"\n",
            "_________________________________________________________________\n",
            "Layer (type)                 Output Shape              Param #   \n",
            "=================================================================\n",
            "flatten_1 (Flatten)          (None, 784)               0         \n",
            "_________________________________________________________________\n",
            "dense_1 (Dense)              (None, 30)                23550     \n",
            "_________________________________________________________________\n",
            "dense_2 (Dense)              (None, 30)                930       \n",
            "_________________________________________________________________\n",
            "dense_3 (Dense)              (None, 10)                310       \n",
            "=================================================================\n",
            "Total params: 24,790\n",
            "Trainable params: 24,790\n",
            "Non-trainable params: 0\n",
            "_________________________________________________________________\n"
          ],
          "name": "stdout"
        }
      ]
    },
    {
      "cell_type": "code",
      "metadata": {
        "id": "aL-qMYvER0ox",
        "colab_type": "code",
        "colab": {
          "base_uri": "https://localhost:8080/",
          "height": 1000
        },
        "outputId": "3be1e47c-e1de-4f42-c862-5d03703efaad"
      },
      "source": [
        "\n",
        "# Fit the model\n",
        "history = model.fit(X_train, y_train, validation_data=(X_test, y_test),\n",
        "          epochs=config.epochs)"
      ],
      "execution_count": 11,
      "outputs": [
        {
          "output_type": "stream",
          "text": [
            "Train on 60000 samples, validate on 10000 samples\n",
            "Epoch 1/30\n",
            "60000/60000 [==============================] - 10s 159us/step - loss: 2.4184 - acc: 0.8493 - val_loss: 2.5620 - val_acc: 0.8405\n",
            "Epoch 2/30\n",
            "60000/60000 [==============================] - 10s 159us/step - loss: 2.4826 - acc: 0.8454 - val_loss: 2.4871 - val_acc: 0.8450\n",
            "Epoch 3/30\n",
            "60000/60000 [==============================] - 10s 161us/step - loss: 2.4569 - acc: 0.8471 - val_loss: 2.3989 - val_acc: 0.8509\n",
            "Epoch 4/30\n",
            "60000/60000 [==============================] - 10s 159us/step - loss: 2.4056 - acc: 0.8503 - val_loss: 2.4235 - val_acc: 0.8493\n",
            "Epoch 5/30\n",
            "60000/60000 [==============================] - 10s 162us/step - loss: 2.4246 - acc: 0.8491 - val_loss: 2.3797 - val_acc: 0.8517\n",
            "Epoch 6/30\n",
            "60000/60000 [==============================] - 10s 160us/step - loss: 2.4432 - acc: 0.8479 - val_loss: 2.5166 - val_acc: 0.8433\n",
            "Epoch 7/30\n",
            "60000/60000 [==============================] - 10s 161us/step - loss: 2.3954 - acc: 0.8510 - val_loss: 2.4517 - val_acc: 0.8474\n",
            "Epoch 8/30\n",
            "60000/60000 [==============================] - 10s 161us/step - loss: 2.4584 - acc: 0.8471 - val_loss: 2.5238 - val_acc: 0.8427\n",
            "Epoch 9/30\n",
            "60000/60000 [==============================] - 10s 161us/step - loss: 2.4927 - acc: 0.8450 - val_loss: 2.5300 - val_acc: 0.8426\n",
            "Epoch 10/30\n",
            "60000/60000 [==============================] - 10s 161us/step - loss: 2.4221 - acc: 0.8494 - val_loss: 2.4062 - val_acc: 0.8501\n",
            "Epoch 11/30\n",
            "60000/60000 [==============================] - 10s 162us/step - loss: 2.4887 - acc: 0.8451 - val_loss: 2.6045 - val_acc: 0.8380\n",
            "Epoch 12/30\n",
            "60000/60000 [==============================] - 10s 160us/step - loss: 2.4612 - acc: 0.8467 - val_loss: 2.3780 - val_acc: 0.8521\n",
            "Epoch 13/30\n",
            "60000/60000 [==============================] - 10s 162us/step - loss: 2.4044 - acc: 0.8505 - val_loss: 2.4289 - val_acc: 0.8490\n",
            "Epoch 14/30\n",
            "60000/60000 [==============================] - 10s 160us/step - loss: 2.3751 - acc: 0.8522 - val_loss: 2.5116 - val_acc: 0.8436\n",
            "Epoch 15/30\n",
            "60000/60000 [==============================] - 10s 161us/step - loss: 2.4125 - acc: 0.8500 - val_loss: 2.6004 - val_acc: 0.8383\n",
            "Epoch 16/30\n",
            "60000/60000 [==============================] - 10s 160us/step - loss: 2.3615 - acc: 0.8531 - val_loss: 2.5125 - val_acc: 0.8434\n",
            "Epoch 17/30\n",
            "60000/60000 [==============================] - 10s 162us/step - loss: 2.4799 - acc: 0.8458 - val_loss: 2.5176 - val_acc: 0.8437\n",
            "Epoch 18/30\n",
            "60000/60000 [==============================] - 10s 161us/step - loss: 2.4663 - acc: 0.8466 - val_loss: 2.4757 - val_acc: 0.8462\n",
            "Epoch 19/30\n",
            "60000/60000 [==============================] - 10s 160us/step - loss: 2.4658 - acc: 0.8466 - val_loss: 2.6199 - val_acc: 0.8371\n",
            "Epoch 20/30\n",
            "60000/60000 [==============================] - 10s 162us/step - loss: 2.4755 - acc: 0.8461 - val_loss: 2.5843 - val_acc: 0.8392\n",
            "Epoch 21/30\n",
            "60000/60000 [==============================] - 9s 153us/step - loss: 2.3882 - acc: 0.8514 - val_loss: 2.4868 - val_acc: 0.8453\n",
            "Epoch 22/30\n",
            "60000/60000 [==============================] - 9s 156us/step - loss: 2.4190 - acc: 0.8495 - val_loss: 2.7169 - val_acc: 0.8311\n",
            "Epoch 23/30\n",
            "60000/60000 [==============================] - 10s 161us/step - loss: 2.4026 - acc: 0.8506 - val_loss: 2.4233 - val_acc: 0.8494\n",
            "Epoch 24/30\n",
            "60000/60000 [==============================] - 10s 160us/step - loss: 2.3894 - acc: 0.8516 - val_loss: 2.5393 - val_acc: 0.8422\n",
            "Epoch 25/30\n",
            "60000/60000 [==============================] - 10s 159us/step - loss: 2.3802 - acc: 0.8521 - val_loss: 2.3341 - val_acc: 0.8547\n",
            "Epoch 26/30\n",
            "60000/60000 [==============================] - 10s 160us/step - loss: 2.4848 - acc: 0.8455 - val_loss: 2.7163 - val_acc: 0.8309\n",
            "Epoch 27/30\n",
            "60000/60000 [==============================] - 10s 161us/step - loss: 2.4788 - acc: 0.8459 - val_loss: 2.4761 - val_acc: 0.8461\n",
            "Epoch 28/30\n",
            "60000/60000 [==============================] - 10s 160us/step - loss: 2.3824 - acc: 0.8519 - val_loss: 2.4280 - val_acc: 0.8491\n",
            "Epoch 29/30\n",
            "60000/60000 [==============================] - 10s 161us/step - loss: 2.3973 - acc: 0.8510 - val_loss: 2.5127 - val_acc: 0.8437\n",
            "Epoch 30/30\n",
            "60000/60000 [==============================] - 10s 161us/step - loss: 2.4356 - acc: 0.8486 - val_loss: 2.4850 - val_acc: 0.8454\n"
          ],
          "name": "stdout"
        }
      ]
    },
    {
      "cell_type": "code",
      "metadata": {
        "id": "XLXwBmtGzUUU",
        "colab_type": "code",
        "colab": {}
      },
      "source": [
        "import matplotlib.pyplot as plt "
      ],
      "execution_count": 0,
      "outputs": []
    },
    {
      "cell_type": "code",
      "metadata": {
        "id": "xbJx9Ate1l1_",
        "colab_type": "code",
        "colab": {}
      },
      "source": [
        "a= np.arange(-10,10,0.001)\n",
        "b=np.arange(-10,10,0.001)\n",
        "c= lambda a,b: (a+b-2)**2"
      ],
      "execution_count": 0,
      "outputs": []
    },
    {
      "cell_type": "code",
      "metadata": {
        "id": "Dde8551_3RHS",
        "colab_type": "code",
        "colab": {
          "base_uri": "https://localhost:8080/",
          "height": 286
        },
        "outputId": "fd39cbb8-c5e9-488d-8c67-d2d3268247af"
      },
      "source": [
        "plt.plot(a,c(a,0))"
      ],
      "execution_count": 14,
      "outputs": [
        {
          "output_type": "execute_result",
          "data": {
            "text/plain": [
              "[<matplotlib.lines.Line2D at 0x7f3b4012bef0>]"
            ]
          },
          "metadata": {
            "tags": []
          },
          "execution_count": 14
        },
        {
          "output_type": "display_data",
          "data": {
            "image/png": "[encoded data removed]",
            "text/plain": [
              "<Figure size 432x288 with 1 Axes>"
            ]
          },
          "metadata": {
            "tags": []
          }
        }
      ]
    },
    {
      "cell_type": "code",
      "metadata": {
        "id": "6nyDC1XD3Uvu",
        "colab_type": "code",
        "colab": {
          "base_uri": "https://localhost:8080/",
          "height": 34
        },
        "outputId": "b2d1ae8f-da72-4726-c1bb-0766d1abe45b"
      },
      "source": [
        "history"
      ],
      "execution_count": 15,
      "outputs": [
        {
          "output_type": "execute_result",
          "data": {
            "text/plain": [
              "<keras.callbacks.History at 0x7f3b8b32f2b0>"
            ]
          },
          "metadata": {
            "tags": []
          },
          "execution_count": 15
        }
      ]
    },
    {
      "cell_type": "code",
      "metadata": {
        "id": "y9x1Ey3Y5SIn",
        "colab_type": "code",
        "colab": {}
      },
      "source": [
        "epochs= history.epoch"
      ],
      "execution_count": 0,
      "outputs": []
    },
    {
      "cell_type": "code",
      "metadata": {
        "id": "ETemaugC5agN",
        "colab_type": "code",
        "colab": {
          "base_uri": "https://localhost:8080/",
          "height": 34
        },
        "outputId": "b6028e7b-ba1e-46e8-ee2f-c497c6c5a8f6"
      },
      "source": [
        "type(history.history)"
      ],
      "execution_count": 17,
      "outputs": [
        {
          "output_type": "execute_result",
          "data": {
            "text/plain": [
              "dict"
            ]
          },
          "metadata": {
            "tags": []
          },
          "execution_count": 17
        }
      ]
    },
    {
      "cell_type": "code",
      "metadata": {
        "id": "8259Bwfn5eei",
        "colab_type": "code",
        "colab": {
          "base_uri": "https://localhost:8080/",
          "height": 34
        },
        "outputId": "156edda0-20d8-46a7-a738-dd277968baea"
      },
      "source": [
        "history.history.keys()"
      ],
      "execution_count": 18,
      "outputs": [
        {
          "output_type": "execute_result",
          "data": {
            "text/plain": [
              "dict_keys(['val_loss', 'val_acc', 'loss', 'acc'])"
            ]
          },
          "metadata": {
            "tags": []
          },
          "execution_count": 18
        }
      ]
    },
    {
      "cell_type": "code",
      "metadata": {
        "id": "aw_4RME75ioB",
        "colab_type": "code",
        "colab": {
          "base_uri": "https://localhost:8080/",
          "height": 34
        },
        "outputId": "422e38db-3e00-402b-8005-44f3326f3577"
      },
      "source": [
        "len(history.history[\"acc\"])"
      ],
      "execution_count": 19,
      "outputs": [
        {
          "output_type": "execute_result",
          "data": {
            "text/plain": [
              "30"
            ]
          },
          "metadata": {
            "tags": []
          },
          "execution_count": 19
        }
      ]
    },
    {
      "cell_type": "code",
      "metadata": {
        "id": "WwwoBqq359Ft",
        "colab_type": "code",
        "colab": {
          "base_uri": "https://localhost:8080/",
          "height": 269
        },
        "outputId": "ad5b1658-8b29-477a-9bc0-452f43e57c5f"
      },
      "source": [
        "plt.plot(epochs,history.history[\"acc\"])\n",
        "plt.plot(epochs,history.history[\"val_acc\"])\n",
        "plt.show()"
      ],
      "execution_count": 23,
      "outputs": [
        {
          "output_type": "display_data",
          "data": {
            "image/png": "[encoded data removed]",
            "text/plain": [
              "<Figure size 432x288 with 1 Axes>"
            ]
          },
          "metadata": {
            "tags": []
          }
        }
      ]
    },
    {
      "cell_type": "code",
      "metadata": {
        "id": "r-1ledfU6JJC",
        "colab_type": "code",
        "colab": {}
      },
      "source": [
        ""
      ],
      "execution_count": 0,
      "outputs": []
    }
  ]
}